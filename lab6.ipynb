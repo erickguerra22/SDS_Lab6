{
 "cells": [
  {
   "cell_type": "markdown",
   "metadata": {},
   "source": [
    "# Laboratorio 6\n",
    "CC3094 Security Data Science  \n",
    "Sección 10  \n",
    "Erick Stiv Junior Guerra Muñoz - 21781  \n",
    "  \n",
    "Repositorio de GitHub: https://github.com/erickguerra22/SDS_Lab6.git"
   ]
  },
  {
   "cell_type": "code",
   "execution_count": 131,
   "metadata": {},
   "outputs": [],
   "source": [
    "# Imports necesarios\n",
    "from scapy.all import sniff, rdpcap, Ether, IP, TCP, UDP, ICMP\n",
    "import pandas as pd\n",
    "import matplotlib.pyplot as plt\n",
    "from scapy.packet import Raw"
   ]
  },
  {
   "cell_type": "markdown",
   "metadata": {},
   "source": [
    "### Preámbulo"
   ]
  },
  {
   "cell_type": "markdown",
   "metadata": {},
   "source": [
    "a. Capture 25 paquetes de su red doméstica (no de la red de la UVG) y asígnelos a una variable."
   ]
  },
  {
   "cell_type": "code",
   "execution_count": 132,
   "metadata": {},
   "outputs": [],
   "source": [
    "paquetes = sniff(count=25)"
   ]
  },
  {
   "cell_type": "markdown",
   "metadata": {},
   "source": [
    "b.\tImprima el tipo de variable, la longitud y el contenido de la variable."
   ]
  },
  {
   "cell_type": "code",
   "execution_count": 133,
   "metadata": {},
   "outputs": [
    {
     "name": "stdout",
     "output_type": "stream",
     "text": [
      "Tipo: <class 'scapy.plist.PacketList'>\n",
      "Longitud: 25\n",
      "Contenido:\n",
      "0000 Ether / IP / UDP 10.100.0.81:2008 > 10.100.31.255:2008 / Raw\n",
      "0001 Ether / IP / UDP / mDNS Ans b'IPad-de-Fabio.local.'\n",
      "0002 Ether / IP / UDP 10.100.0.81:2007 > 10.100.31.255:2007 / Raw\n",
      "0003 Ether / IP / UDP / mDNS Qry b'iPad de Dayana._companion-link._tcp.local.'\n",
      "0004 Ether / Dot1Q / IP / UDP 10.100.5.89:58817 > 239.255.255.250:ssdp / Raw\n",
      "0005 Ether / IP / UDP / mDNS Qry b'_homekit._tcp.local.'\n",
      "0006 Ether / IP / UDP / mDNS Ans b'MacBook Air de Mynor._companion-link._tcp.local.'\n",
      "0007 Ether / IP / UDP / mDNS Ans b'iPad de Jimena (2)._companion-link._tcp.local.'\n",
      "0008 Ether / Dot1Q / IP / UDP 10.100.3.174:58870 > 239.255.255.250:ssdp / Raw\n",
      "0009 Ether / IP / UDP 10.100.5.25:2343 > 255.255.255.255:2343 / Raw\n",
      "0010 Ether / IP / UDP / mDNS Qry b'MacBook Air de Nicolle._companion-link._tcp.local.'\n",
      "0011 Ether / Dot1Q / IP / UDP 10.100.5.27:62219 > 239.255.255.250:ssdp / Raw\n",
      "0012 Ether / IP / UDP / mDNS Ans [b'rpMac=0', b'rpHN=904bc6ce656e', b'rpFl=0x20000', b'rpHA=83c11bd04aa5', b'rpVr=640.1.1', b'rpAD=e0663eb242fd', b'rpHI=82a957226222', b'rpBA=22:30:6F:4D:C3:9A']\n",
      "0013 Ether / IP / UDP / mDNS Qry b'iPad de Mafer (2)._companion-link._tcp.local.'\n",
      "0014 Ether / IP / UDP / mDNS Qry b'MacBook Pro de MAYRA._companion-link._tcp.local.'\n",
      "0015 Ether / IP / UDP 192.168.86.91:35213 > 255.255.255.255:23541 / Raw\n",
      "0016 Ether / IP / UDP / mDNS Qry b'Daniela\\xe2\\x80\\x99s MacBook Pro (2)._companion-link._tcp.local.'\n",
      "0017 Ether / IP / UDP / mDNS Qry b'iPad (52)._companion-link._tcp.local.'\n",
      "0018 Ether / IP / UDP / mDNS Qry b'_arduino._tcp.local.'\n",
      "0019 Ether / IP / UDP 10.100.0.81:2008 > 10.100.31.255:2008 / Raw\n",
      "0020 Ether / IP / UDP / mDNS Ans [b'model=J310AP']\n",
      "0021 Ether / IP / UDP / NBNSHeader / NBNSQueryRequest who has '\\\\\u0001\u0002__MSBROWSE__\u0002'\n",
      "0022 Ether / IP / UDP / mDNS Qry b'DESKTOP-ILVM4AD.local.'\n",
      "0023 Ether / IP / UDP 10.100.0.221:57400 > 10.100.31.255:51007 / Raw\n",
      "0024 Ether / IP / UDP 10.100.5.19:64570 > 224.0.0.252:llmnr / LLMNRQuery who has 'DESKTOP-ILVM4AD.'\n"
     ]
    }
   ],
   "source": [
    "print(\"Tipo:\", type(paquetes))\n",
    "print(\"Longitud:\", len(paquetes))\n",
    "print(\"Contenido:\")\n",
    "paquetes.show()"
   ]
  },
  {
   "cell_type": "markdown",
   "metadata": {},
   "source": [
    "c.\tImprima el tipo de dato del primer paquete capturado."
   ]
  },
  {
   "cell_type": "code",
   "execution_count": 134,
   "metadata": {},
   "outputs": [
    {
     "name": "stdout",
     "output_type": "stream",
     "text": [
      "Tipo de primer paquete:  <class 'scapy.layers.l2.Ether'>\n"
     ]
    }
   ],
   "source": [
    "print(\"Tipo de primer paquete: \",type(paquetes[0]))"
   ]
  },
  {
   "cell_type": "markdown",
   "metadata": {},
   "source": [
    "d.\tImprima el contenido de 5 paquetes."
   ]
  },
  {
   "cell_type": "code",
   "execution_count": 135,
   "metadata": {},
   "outputs": [
    {
     "name": "stdout",
     "output_type": "stream",
     "text": [
      "Paquete 1: \n",
      "\n",
      "###[ Ethernet ]###\n",
      "  dst       = ff:ff:ff:ff:ff:ff\n",
      "  src       = 90:78:41:af:0c:80\n",
      "  type      = IPv4\n",
      "###[ IP ]###\n",
      "     version   = 4\n",
      "     ihl       = 5\n",
      "     tos       = 0x0\n",
      "     len       = 48\n",
      "     id        = 62163\n",
      "     flags     = \n",
      "     frag      = 0\n",
      "     ttl       = 128\n",
      "     proto     = udp\n",
      "     chksum    = 0x12d2\n",
      "     src       = 10.100.0.81\n",
      "     dst       = 10.100.31.255\n",
      "     \\options   \\\n",
      "###[ UDP ]###\n",
      "        sport     = 2008\n",
      "        dport     = 2008\n",
      "        len       = 28\n",
      "        chksum    = 0x1132\n",
      "###[ Raw ]###\n",
      "           load      = b'BC 15LAPTOP-CLSSJEKJ'\n",
      "\n",
      "None\n",
      "\n",
      "--------------------\n",
      "\n",
      "Paquete 2: \n",
      "\n",
      "###[ Ethernet ]###\n",
      "  dst       = 01:00:5e:00:00:fb\n",
      "  src       = 62:9a:0a:24:4f:0e\n",
      "  type      = IPv4\n",
      "###[ IP ]###\n",
      "     version   = 4\n",
      "     ihl       = 5\n",
      "     tos       = 0x0\n",
      "     len       = 246\n",
      "     id        = 13020\n",
      "     flags     = \n",
      "     frag      = 0\n",
      "     ttl       = 255\n",
      "     proto     = udp\n",
      "     chksum    = 0x8ccb\n",
      "     src       = 10.100.15.240\n",
      "     dst       = 224.0.0.251\n",
      "     \\options   \\\n",
      "###[ UDP ]###\n",
      "        sport     = 5353\n",
      "        dport     = 5353\n",
      "        len       = 226\n",
      "        chksum    = 0x8256\n",
      "###[ DNS ]###\n",
      "           id        = 0\n",
      "           qr        = 1\n",
      "           opcode    = QUERY\n",
      "           aa        = 1\n",
      "           tc        = 0\n",
      "           rd        = 0\n",
      "           ra        = 0\n",
      "           z         = 0\n",
      "           ad        = 0\n",
      "           cd        = 0\n",
      "           rcode     = ok\n",
      "           qdcount   = 0\n",
      "           ancount   = 2\n",
      "           nscount   = 0\n",
      "           arcount   = 3\n",
      "           \\qd        \\\n",
      "           \\an        \\\n",
      "            |###[ DNS Resource Record ]###\n",
      "            |  rrname    = b'F.D.6.2.B.A.F.6.E.2.7.5.5.5.0.1.0.0.0.0.0.0.0.0.0.0.0.0.0.8.E.F.ip6.arpa.'\n",
      "            |  type      = PTR\n",
      "            |  cacheflush= 1\n",
      "            |  rclass    = IN\n",
      "            |  ttl       = 120\n",
      "            |  rdlen     = None\n",
      "            |  rdata     = b'IPad-de-Fabio.local.'\n",
      "            |###[ DNS Resource Record ]###\n",
      "            |  rrname    = b'240.15.100.10.in-addr.arpa.'\n",
      "            |  type      = PTR\n",
      "            |  cacheflush= 1\n",
      "            |  rclass    = IN\n",
      "            |  ttl       = 120\n",
      "            |  rdlen     = None\n",
      "            |  rdata     = b'IPad-de-Fabio.local.'\n",
      "           \\ns        \\\n",
      "           \\ar        \\\n",
      "            |###[ DNS NSEC Resource Record ]###\n",
      "            |  rrname    = b'F.D.6.2.B.A.F.6.E.2.7.5.5.5.0.1.0.0.0.0.0.0.0.0.0.0.0.0.0.8.E.F.ip6.arpa.'\n",
      "            |  type      = NSEC\n",
      "            |  cacheflush= 1\n",
      "            |  rclass    = IN\n",
      "            |  ttl       = 120\n",
      "            |  rdlen     = None\n",
      "            |  nextname  = b'F.D.6.2.B.A.F.6.E.2.7.5.5.5.0.1.0.0.0.0.0.0.0.0.0.0.0.0.0.8.E.F.ip6.arpa.'\n",
      "            |  typebitmaps= ['PTR']\n",
      "            |###[ DNS NSEC Resource Record ]###\n",
      "            |  rrname    = b'240.15.100.10.in-addr.arpa.'\n",
      "            |  type      = NSEC\n",
      "            |  cacheflush= 1\n",
      "            |  rclass    = IN\n",
      "            |  ttl       = 120\n",
      "            |  rdlen     = None\n",
      "            |  nextname  = b'240.15.100.10.in-addr.arpa.'\n",
      "            |  typebitmaps= ['PTR']\n",
      "            |###[ DNS OPT Resource Record ]###\n",
      "            |  rrname    = b'.'\n",
      "            |  type      = OPT\n",
      "            |  rclass    = 1440\n",
      "            |  extrcode  = 0\n",
      "            |  version   = 0\n",
      "            |  z         = 4500\n",
      "            |  rdlen     = None\n",
      "            |  \\rdata     \\\n",
      "            |   |###[ EDNS0 Owner (OWN) ]###\n",
      "            |   |  optcode   = Owner\n",
      "            |   |  optlen    = 14\n",
      "            |   |  v         = 0\n",
      "            |   |  s         = 207\n",
      "            |   |  primary_mac= 7a:70:c9:17:be:58\n",
      "            |   |###[ DNS EDNS0 TLV ]###\n",
      "            |   |  optcode   = 25242\n",
      "            |   |  optlen    = 2596\n",
      "            |   |  optdata   = b'O\\x0e'\n",
      "\n",
      "None\n",
      "\n",
      "--------------------\n",
      "\n",
      "Paquete 3: \n",
      "\n",
      "###[ Ethernet ]###\n",
      "  dst       = ff:ff:ff:ff:ff:ff\n",
      "  src       = 90:78:41:af:0c:80\n",
      "  type      = IPv4\n",
      "###[ IP ]###\n",
      "     version   = 4\n",
      "     ihl       = 5\n",
      "     tos       = 0x0\n",
      "     len       = 48\n",
      "     id        = 62164\n",
      "     flags     = \n",
      "     frag      = 0\n",
      "     ttl       = 128\n",
      "     proto     = udp\n",
      "     chksum    = 0x12d1\n",
      "     src       = 10.100.0.81\n",
      "     dst       = 10.100.31.255\n",
      "     \\options   \\\n",
      "###[ UDP ]###\n",
      "        sport     = 2007\n",
      "        dport     = 2007\n",
      "        len       = 28\n",
      "        chksum    = 0x1134\n",
      "###[ Raw ]###\n",
      "           load      = b'BC 15LAPTOP-CLSSJEKJ'\n",
      "\n",
      "None\n",
      "\n",
      "--------------------\n",
      "\n",
      "Paquete 4: \n",
      "\n",
      "###[ Ethernet ]###\n",
      "  dst       = 01:00:5e:00:00:fb\n",
      "  src       = 62:9a:0a:24:4f:0e\n",
      "  type      = IPv4\n",
      "###[ IP ]###\n",
      "     version   = 4\n",
      "     ihl       = 5\n",
      "     tos       = 0x0\n",
      "     len       = 206\n",
      "     id        = 62321\n",
      "     flags     = \n",
      "     frag      = 0\n",
      "     ttl       = 255\n",
      "     proto     = udp\n",
      "     chksum    = 0xcc5d\n",
      "     src       = 10.100.15.240\n",
      "     dst       = 224.0.0.251\n",
      "     \\options   \\\n",
      "###[ UDP ]###\n",
      "        sport     = 5353\n",
      "        dport     = 5353\n",
      "        len       = 186\n",
      "        chksum    = 0x92e7\n",
      "###[ DNS ]###\n",
      "           id        = 0\n",
      "           qr        = 0\n",
      "           opcode    = QUERY\n",
      "           aa        = 0\n",
      "           tc        = 0\n",
      "           rd        = 0\n",
      "           ra        = 0\n",
      "           z         = 0\n",
      "           ad        = 0\n",
      "           cd        = 0\n",
      "           rcode     = ok\n",
      "           qdcount   = 5\n",
      "           ancount   = 0\n",
      "           nscount   = 0\n",
      "           arcount   = 1\n",
      "           \\qd        \\\n",
      "            |###[ DNS Question Record ]###\n",
      "            |  qname     = b'iPad de Dayana._companion-link._tcp.local.'\n",
      "            |  qtype     = TXT\n",
      "            |  unicastresponse= 1\n",
      "            |  qclass    = IN\n",
      "            |###[ DNS Question Record ]###\n",
      "            |  qname     = b'iPad (52)._companion-link._tcp.local.'\n",
      "            |  qtype     = TXT\n",
      "            |  unicastresponse= 1\n",
      "            |  qclass    = IN\n",
      "            |###[ DNS Question Record ]###\n",
      "            |  qname     = b'Joanne\\xe2\\x80\\x99s MacBook Pro._companion-link._tcp.local.'\n",
      "            |  qtype     = TXT\n",
      "            |  unicastresponse= 1\n",
      "            |  qclass    = IN\n",
      "            |###[ DNS Question Record ]###\n",
      "            |  qname     = b'MacBook Pro de Maria (2)._companion-link._tcp.local.'\n",
      "            |  qtype     = TXT\n",
      "            |  unicastresponse= 1\n",
      "            |  qclass    = IN\n",
      "            |###[ DNS Question Record ]###\n",
      "            |  qname     = b'Osw (2)._companion-link._tcp.local.'\n",
      "            |  qtype     = TXT\n",
      "            |  unicastresponse= 1\n",
      "            |  qclass    = IN\n",
      "           \\an        \\\n",
      "           \\ns        \\\n",
      "           \\ar        \\\n",
      "            |###[ DNS OPT Resource Record ]###\n",
      "            |  rrname    = b'.'\n",
      "            |  type      = OPT\n",
      "            |  rclass    = 1440\n",
      "            |  extrcode  = 0\n",
      "            |  version   = 0\n",
      "            |  z         = 4500\n",
      "            |  rdlen     = None\n",
      "            |  \\rdata     \\\n",
      "            |   |###[ EDNS0 Owner (OWN) ]###\n",
      "            |   |  optcode   = Owner\n",
      "            |   |  optlen    = 14\n",
      "            |   |  v         = 0\n",
      "            |   |  s         = 207\n",
      "            |   |  primary_mac= 7a:70:c9:17:be:58\n",
      "            |   |###[ DNS EDNS0 TLV ]###\n",
      "            |   |  optcode   = 25242\n",
      "            |   |  optlen    = 2596\n",
      "            |   |  optdata   = b'O\\x0e'\n",
      "\n",
      "None\n",
      "\n",
      "--------------------\n",
      "\n",
      "Paquete 5: \n",
      "\n",
      "###[ Ethernet ]###\n",
      "  dst       = dc:8b:28:62:aa:2f\n",
      "  src       = 94:e2:3c:a5:f7:4e\n",
      "  type      = VLAN\n",
      "###[ 802.1Q ]###\n",
      "     prio      = 0\n",
      "     dei       = 0\n",
      "     vlan      = 0\n",
      "     type      = IPv4\n",
      "###[ IP ]###\n",
      "        version   = 4\n",
      "        ihl       = 5\n",
      "        tos       = 0x88\n",
      "        len       = 198\n",
      "        id        = 19579\n",
      "        flags     = \n",
      "        frag      = 0\n",
      "        ttl       = 1\n",
      "        proto     = udp\n",
      "        chksum    = 0x6c6d\n",
      "        src       = 10.100.5.89\n",
      "        dst       = 239.255.255.250\n",
      "        \\options   \\\n",
      "###[ UDP ]###\n",
      "           sport     = 58817\n",
      "           dport     = ssdp\n",
      "           len       = 178\n",
      "           chksum    = 0xc0a3\n",
      "###[ Raw ]###\n",
      "              load      = b'M-SEARCH * HTTP/1.1\\r\\nHOST: 239.255.255.250:1900\\r\\nMAN: \"ssdp:discover\"\\r\\nMX: 1\\r\\nST: urn:dial-multiscreen-org:service:dial:1\\r\\nUSER-AGENT: Chromium/131.0.6778.109 Windows\\r\\n\\r\\n'\n",
      "\n",
      "None\n",
      "\n",
      "--------------------\n",
      "\n"
     ]
    }
   ],
   "source": [
    "for i in range(5):\n",
    "    print(f\"Paquete {i+1}: \\n\")\n",
    "    print(paquetes[i].show())\n",
    "    print(f\"\\n{\"-\"*20}\\n\")"
   ]
  },
  {
   "cell_type": "markdown",
   "metadata": {},
   "source": [
    "### Análisis estadístico"
   ]
  },
  {
   "cell_type": "markdown",
   "metadata": {},
   "source": [
    "1. Descargue e archivo analisis_paquetes.pcap y asignelo a una variable."
   ]
  },
  {
   "cell_type": "code",
   "execution_count": 136,
   "metadata": {},
   "outputs": [],
   "source": [
    "packages = rdpcap('./analisis_paquetes.pcap')"
   ]
  },
  {
   "cell_type": "markdown",
   "metadata": {},
   "source": [
    "2. Convierta la variable a un DataFrame."
   ]
  },
  {
   "cell_type": "code",
   "execution_count": 137,
   "metadata": {},
   "outputs": [],
   "source": [
    "df_pkgs = []\n",
    "\n",
    "for pkt in packages:\n",
    "    fila = {}\n",
    "\n",
    "    if Ether in pkt:\n",
    "        eth = pkt[Ether]\n",
    "        fila[\"eth_src\"] = eth.src\n",
    "        fila[\"eth_dst\"] = eth.dst\n",
    "        fila[\"eth_type\"] = eth.type\n",
    "\n",
    "    if IP in pkt:\n",
    "        ip = pkt[IP]\n",
    "        fila[\"ip_version\"] = ip.version\n",
    "        fila[\"ip_ihl\"] = ip.ihl\n",
    "        fila[\"ip_tos\"] = ip.tos\n",
    "        fila[\"ip_len\"] = ip.len\n",
    "        fila[\"ip_id\"] = ip.id\n",
    "        fila[\"ip_flags\"] = ip.flags\n",
    "        fila[\"ip_frag\"] = ip.frag\n",
    "        fila[\"ip_ttl\"] = ip.ttl\n",
    "        fila[\"ip_proto\"] = ip.proto\n",
    "        fila[\"ip_chksum\"] = ip.chksum\n",
    "        fila[\"ip_src\"] = ip.src\n",
    "        fila[\"ip_dst\"] = ip.dst\n",
    "\n",
    "    if TCP in pkt:\n",
    "        tcp = pkt[TCP]\n",
    "        fila[\"tcp_sport\"] = tcp.sport\n",
    "        fila[\"tcp_dport\"] = tcp.dport\n",
    "        fila[\"tcp_seq\"] = tcp.seq\n",
    "        fila[\"tcp_ack\"] = tcp.ack\n",
    "        fila[\"tcp_dataofs\"] = tcp.dataofs\n",
    "        fila[\"tcp_reserved\"] = tcp.reserved\n",
    "        fila[\"tcp_flags\"] = tcp.flags\n",
    "        fila[\"tcp_window\"] = tcp.window\n",
    "        fila[\"tcp_chksum\"] = tcp.chksum\n",
    "        fila[\"tcp_urgptr\"] = tcp.urgptr\n",
    "\n",
    "    if UDP in pkt:\n",
    "        udp = pkt[UDP]\n",
    "        fila[\"udp_sport\"] = udp.sport\n",
    "        fila[\"udp_dport\"] = udp.dport\n",
    "        fila[\"udp_len\"] = udp.len\n",
    "        fila[\"udp_chksum\"] = udp.chksum\n",
    "\n",
    "    if ICMP in pkt:\n",
    "        icmp = pkt[ICMP]\n",
    "        fila[\"icmp_type\"] = icmp.type\n",
    "        fila[\"icmp_code\"] = icmp.code\n",
    "        fila[\"icmp_chksum\"] = icmp.chksum\n",
    "        fila[\"icmp_id\"] = getattr(icmp, \"id\", None)\n",
    "        fila[\"icmp_seq\"] = getattr(icmp, \"seq\", None)\n",
    "\n",
    "    fila[\"timestamp\"] = pkt.time\n",
    "    fila[\"length\"] = len(pkt)\n",
    "    fila[\"summary\"] = pkt.summary()\n",
    "\n",
    "    if Raw in pkt:\n",
    "        payload_bytes = bytes(pkt[Raw])\n",
    "        fila[\"payload\"] = len(payload_bytes)\n",
    "        fila[\"payload_raw\"] = payload_bytes.hex()\n",
    "    else:\n",
    "        fila[\"payload\"] = 0\n",
    "        fila[\"payload_raw\"] = None\n",
    "\n",
    "    df_pkgs.append(fila)\n",
    "\n",
    "df_pkgs = pd.DataFrame(df_pkgs)\n",
    "df_pkgs.to_csv(\"paquetes_con_payload.csv\", index=False)\n"
   ]
  },
  {
   "cell_type": "markdown",
   "metadata": {},
   "source": [
    "3. Muestre el contenido de las primeras 5 filas del dataset"
   ]
  },
  {
   "cell_type": "code",
   "execution_count": 138,
   "metadata": {},
   "outputs": [
    {
     "data": {
      "text/html": [
       "<div>\n",
       "<style scoped>\n",
       "    .dataframe tbody tr th:only-of-type {\n",
       "        vertical-align: middle;\n",
       "    }\n",
       "\n",
       "    .dataframe tbody tr th {\n",
       "        vertical-align: top;\n",
       "    }\n",
       "\n",
       "    .dataframe thead th {\n",
       "        text-align: right;\n",
       "    }\n",
       "</style>\n",
       "<table border=\"1\" class=\"dataframe\">\n",
       "  <thead>\n",
       "    <tr style=\"text-align: right;\">\n",
       "      <th></th>\n",
       "      <th>eth_src</th>\n",
       "      <th>eth_dst</th>\n",
       "      <th>eth_type</th>\n",
       "      <th>ip_version</th>\n",
       "      <th>ip_ihl</th>\n",
       "      <th>ip_tos</th>\n",
       "      <th>ip_len</th>\n",
       "      <th>ip_id</th>\n",
       "      <th>ip_flags</th>\n",
       "      <th>ip_frag</th>\n",
       "      <th>...</th>\n",
       "      <th>ip_dst</th>\n",
       "      <th>udp_sport</th>\n",
       "      <th>udp_dport</th>\n",
       "      <th>udp_len</th>\n",
       "      <th>udp_chksum</th>\n",
       "      <th>timestamp</th>\n",
       "      <th>length</th>\n",
       "      <th>summary</th>\n",
       "      <th>payload</th>\n",
       "      <th>payload_raw</th>\n",
       "    </tr>\n",
       "  </thead>\n",
       "  <tbody>\n",
       "    <tr>\n",
       "      <th>0</th>\n",
       "      <td>88:e9:fe:6a:92:52</td>\n",
       "      <td>80:37:73:96:9b:db</td>\n",
       "      <td>2048</td>\n",
       "      <td>4</td>\n",
       "      <td>5</td>\n",
       "      <td>0</td>\n",
       "      <td>961</td>\n",
       "      <td>1</td>\n",
       "      <td></td>\n",
       "      <td>0</td>\n",
       "      <td>...</td>\n",
       "      <td>84.54.22.33</td>\n",
       "      <td>53</td>\n",
       "      <td>53</td>\n",
       "      <td>941</td>\n",
       "      <td>62990</td>\n",
       "      <td>1532199330.917674</td>\n",
       "      <td>975</td>\n",
       "      <td>Ether / IP / UDP / DNS Qry b'google.com.' / Raw</td>\n",
       "      <td>905</td>\n",
       "      <td>efbfbd504e470d0a1a0a0000000d494844520000016200...</td>\n",
       "    </tr>\n",
       "    <tr>\n",
       "      <th>1</th>\n",
       "      <td>80:37:73:96:9b:db</td>\n",
       "      <td>88:e9:fe:6a:92:52</td>\n",
       "      <td>2048</td>\n",
       "      <td>4</td>\n",
       "      <td>5</td>\n",
       "      <td>32</td>\n",
       "      <td>84</td>\n",
       "      <td>58919</td>\n",
       "      <td></td>\n",
       "      <td>0</td>\n",
       "      <td>...</td>\n",
       "      <td>10.1.10.53</td>\n",
       "      <td>53</td>\n",
       "      <td>53</td>\n",
       "      <td>64</td>\n",
       "      <td>65061</td>\n",
       "      <td>1532199330.950107</td>\n",
       "      <td>98</td>\n",
       "      <td>Ether / IP / UDP / DNS Ans 2607:f8b0:4005:807:...</td>\n",
       "      <td>0</td>\n",
       "      <td>None</td>\n",
       "    </tr>\n",
       "    <tr>\n",
       "      <th>2</th>\n",
       "      <td>88:e9:fe:6a:92:52</td>\n",
       "      <td>80:37:73:96:9b:db</td>\n",
       "      <td>2048</td>\n",
       "      <td>4</td>\n",
       "      <td>5</td>\n",
       "      <td>0</td>\n",
       "      <td>975</td>\n",
       "      <td>1</td>\n",
       "      <td></td>\n",
       "      <td>0</td>\n",
       "      <td>...</td>\n",
       "      <td>84.54.22.33</td>\n",
       "      <td>53</td>\n",
       "      <td>53</td>\n",
       "      <td>955</td>\n",
       "      <td>36378</td>\n",
       "      <td>1532199331.937777</td>\n",
       "      <td>989</td>\n",
       "      <td>Ether / IP / UDP / DNS Qry b'google.com.' / Raw</td>\n",
       "      <td>919</td>\n",
       "      <td>3aefbfbd6c653ac7a9efbfbdefbfbdefbfbd0cefbfbdef...</td>\n",
       "    </tr>\n",
       "    <tr>\n",
       "      <th>3</th>\n",
       "      <td>80:37:73:96:9b:db</td>\n",
       "      <td>88:e9:fe:6a:92:52</td>\n",
       "      <td>2048</td>\n",
       "      <td>4</td>\n",
       "      <td>5</td>\n",
       "      <td>32</td>\n",
       "      <td>84</td>\n",
       "      <td>59493</td>\n",
       "      <td></td>\n",
       "      <td>0</td>\n",
       "      <td>...</td>\n",
       "      <td>10.1.10.53</td>\n",
       "      <td>53</td>\n",
       "      <td>53</td>\n",
       "      <td>64</td>\n",
       "      <td>65063</td>\n",
       "      <td>1532199331.956635</td>\n",
       "      <td>98</td>\n",
       "      <td>Ether / IP / UDP / DNS Ans 2607:f8b0:4005:807:...</td>\n",
       "      <td>0</td>\n",
       "      <td>None</td>\n",
       "    </tr>\n",
       "    <tr>\n",
       "      <th>4</th>\n",
       "      <td>88:e9:fe:6a:92:52</td>\n",
       "      <td>80:37:73:96:9b:db</td>\n",
       "      <td>2048</td>\n",
       "      <td>4</td>\n",
       "      <td>5</td>\n",
       "      <td>0</td>\n",
       "      <td>1012</td>\n",
       "      <td>1</td>\n",
       "      <td></td>\n",
       "      <td>0</td>\n",
       "      <td>...</td>\n",
       "      <td>84.54.22.33</td>\n",
       "      <td>53</td>\n",
       "      <td>53</td>\n",
       "      <td>992</td>\n",
       "      <td>63846</td>\n",
       "      <td>1532199332.960504</td>\n",
       "      <td>1026</td>\n",
       "      <td>Ether / IP / UDP / DNS Qry b'google.com.' / Raw</td>\n",
       "      <td>956</td>\n",
       "      <td>efbfbdefbfbd5e6eefbfbd2727efbfbdefbfbdefbfbd24...</td>\n",
       "    </tr>\n",
       "  </tbody>\n",
       "</table>\n",
       "<p>5 rows × 24 columns</p>\n",
       "</div>"
      ],
      "text/plain": [
       "             eth_src            eth_dst  eth_type  ip_version  ip_ihl  ip_tos  \\\n",
       "0  88:e9:fe:6a:92:52  80:37:73:96:9b:db      2048           4       5       0   \n",
       "1  80:37:73:96:9b:db  88:e9:fe:6a:92:52      2048           4       5      32   \n",
       "2  88:e9:fe:6a:92:52  80:37:73:96:9b:db      2048           4       5       0   \n",
       "3  80:37:73:96:9b:db  88:e9:fe:6a:92:52      2048           4       5      32   \n",
       "4  88:e9:fe:6a:92:52  80:37:73:96:9b:db      2048           4       5       0   \n",
       "\n",
       "   ip_len  ip_id ip_flags  ip_frag  ...       ip_dst  udp_sport  udp_dport  \\\n",
       "0     961      1                 0  ...  84.54.22.33         53         53   \n",
       "1      84  58919                 0  ...   10.1.10.53         53         53   \n",
       "2     975      1                 0  ...  84.54.22.33         53         53   \n",
       "3      84  59493                 0  ...   10.1.10.53         53         53   \n",
       "4    1012      1                 0  ...  84.54.22.33         53         53   \n",
       "\n",
       "  udp_len udp_chksum          timestamp  length  \\\n",
       "0     941      62990  1532199330.917674     975   \n",
       "1      64      65061  1532199330.950107      98   \n",
       "2     955      36378  1532199331.937777     989   \n",
       "3      64      65063  1532199331.956635      98   \n",
       "4     992      63846  1532199332.960504    1026   \n",
       "\n",
       "                                             summary  payload  \\\n",
       "0    Ether / IP / UDP / DNS Qry b'google.com.' / Raw      905   \n",
       "1  Ether / IP / UDP / DNS Ans 2607:f8b0:4005:807:...        0   \n",
       "2    Ether / IP / UDP / DNS Qry b'google.com.' / Raw      919   \n",
       "3  Ether / IP / UDP / DNS Ans 2607:f8b0:4005:807:...        0   \n",
       "4    Ether / IP / UDP / DNS Qry b'google.com.' / Raw      956   \n",
       "\n",
       "                                         payload_raw  \n",
       "0  efbfbd504e470d0a1a0a0000000d494844520000016200...  \n",
       "1                                               None  \n",
       "2  3aefbfbd6c653ac7a9efbfbdefbfbdefbfbd0cefbfbdef...  \n",
       "3                                               None  \n",
       "4  efbfbdefbfbd5e6eefbfbd2727efbfbdefbfbdefbfbd24...  \n",
       "\n",
       "[5 rows x 24 columns]"
      ]
     },
     "execution_count": 138,
     "metadata": {},
     "output_type": "execute_result"
    }
   ],
   "source": [
    "df_pkgs.head(5)"
   ]
  },
  {
   "cell_type": "markdown",
   "metadata": {},
   "source": [
    "4. Muestre los valores de las columnas: Src Addres, Dst Address, Src Port y Dst Port"
   ]
  },
  {
   "cell_type": "code",
   "execution_count": 139,
   "metadata": {},
   "outputs": [
    {
     "data": {
      "text/html": [
       "<div>\n",
       "<style scoped>\n",
       "    .dataframe tbody tr th:only-of-type {\n",
       "        vertical-align: middle;\n",
       "    }\n",
       "\n",
       "    .dataframe tbody tr th {\n",
       "        vertical-align: top;\n",
       "    }\n",
       "\n",
       "    .dataframe thead th {\n",
       "        text-align: right;\n",
       "    }\n",
       "</style>\n",
       "<table border=\"1\" class=\"dataframe\">\n",
       "  <thead>\n",
       "    <tr style=\"text-align: right;\">\n",
       "      <th></th>\n",
       "      <th>ip_src</th>\n",
       "      <th>ip_dst</th>\n",
       "      <th>src_port</th>\n",
       "      <th>dst_port</th>\n",
       "    </tr>\n",
       "  </thead>\n",
       "  <tbody>\n",
       "    <tr>\n",
       "      <th>0</th>\n",
       "      <td>10.1.10.53</td>\n",
       "      <td>84.54.22.33</td>\n",
       "      <td>53</td>\n",
       "      <td>53</td>\n",
       "    </tr>\n",
       "    <tr>\n",
       "      <th>1</th>\n",
       "      <td>84.54.22.33</td>\n",
       "      <td>10.1.10.53</td>\n",
       "      <td>53</td>\n",
       "      <td>53</td>\n",
       "    </tr>\n",
       "    <tr>\n",
       "      <th>2</th>\n",
       "      <td>10.1.10.53</td>\n",
       "      <td>84.54.22.33</td>\n",
       "      <td>53</td>\n",
       "      <td>53</td>\n",
       "    </tr>\n",
       "    <tr>\n",
       "      <th>3</th>\n",
       "      <td>84.54.22.33</td>\n",
       "      <td>10.1.10.53</td>\n",
       "      <td>53</td>\n",
       "      <td>53</td>\n",
       "    </tr>\n",
       "    <tr>\n",
       "      <th>4</th>\n",
       "      <td>10.1.10.53</td>\n",
       "      <td>84.54.22.33</td>\n",
       "      <td>53</td>\n",
       "      <td>53</td>\n",
       "    </tr>\n",
       "  </tbody>\n",
       "</table>\n",
       "</div>"
      ],
      "text/plain": [
       "        ip_src       ip_dst  src_port  dst_port\n",
       "0   10.1.10.53  84.54.22.33        53        53\n",
       "1  84.54.22.33   10.1.10.53        53        53\n",
       "2   10.1.10.53  84.54.22.33        53        53\n",
       "3  84.54.22.33   10.1.10.53        53        53\n",
       "4   10.1.10.53  84.54.22.33        53        53"
      ]
     },
     "execution_count": 139,
     "metadata": {},
     "output_type": "execute_result"
    }
   ],
   "source": [
    "tcp_sport = df_pkgs[\"tcp_sport\"] if \"tcp_sport\" in df_pkgs else pd.Series([None]*len(df_pkgs)).astype(\"Int64\")\n",
    "udp_sport = df_pkgs[\"udp_sport\"] if \"udp_sport\" in df_pkgs else pd.Series([None]*len(df_pkgs)).astype(\"Int64\")\n",
    "\n",
    "tcp_dport = df_pkgs[\"tcp_dport\"] if \"tcp_dport\" in df_pkgs else pd.Series([None]*len(df_pkgs)).astype(\"Int64\")\n",
    "udp_dport = df_pkgs[\"udp_dport\"] if \"udp_dport\" in df_pkgs else pd.Series([None]*len(df_pkgs)).astype(\"Int64\")\n",
    "\n",
    "df_pkgs[\"src_port\"] = tcp_sport.fillna(udp_sport)\n",
    "df_pkgs[\"dst_port\"] = tcp_dport.fillna(udp_dport)\n",
    "\n",
    "df_vis = df_pkgs[[\"ip_src\", \"ip_dst\", \"src_port\", \"dst_port\"]]\n",
    "df_vis.head()\n"
   ]
  },
  {
   "cell_type": "markdown",
   "metadata": {},
   "source": [
    "5. Estadísticas"
   ]
  },
  {
   "cell_type": "markdown",
   "metadata": {},
   "source": [
    "5. a. Mostrar todas las IP de origen"
   ]
  },
  {
   "cell_type": "code",
   "execution_count": 140,
   "metadata": {},
   "outputs": [
    {
     "name": "stdout",
     "output_type": "stream",
     "text": [
      "['10.1.10.53' '84.54.22.33' '75.75.75.75']\n"
     ]
    }
   ],
   "source": [
    "originsIp = df_pkgs[\"ip_src\"].unique()\n",
    "print(originsIp)"
   ]
  },
  {
   "cell_type": "markdown",
   "metadata": {},
   "source": [
    "5. b. Muestre todas las IP destino"
   ]
  },
  {
   "cell_type": "code",
   "execution_count": 141,
   "metadata": {},
   "outputs": [
    {
     "name": "stdout",
     "output_type": "stream",
     "text": [
      "['84.54.22.33' '10.1.10.53' '75.75.75.75']\n"
     ]
    }
   ],
   "source": [
    "destinationIp = df_pkgs[\"ip_dst\"].unique()\n",
    "print(destinationIp)"
   ]
  },
  {
   "cell_type": "markdown",
   "metadata": {},
   "source": [
    "5. c. ¿Cuál es la IP origen más frecuente?"
   ]
  },
  {
   "cell_type": "code",
   "execution_count": 142,
   "metadata": {},
   "outputs": [
    {
     "name": "stdout",
     "output_type": "stream",
     "text": [
      "La IP origen más frecuente es: 10.1.10.53\n"
     ]
    }
   ],
   "source": [
    "frequentOriginIp = df_pkgs[\"ip_src\"].mode()[0]\n",
    "print(f\"La IP origen más frecuente es: {frequentOriginIp}\")"
   ]
  },
  {
   "cell_type": "markdown",
   "metadata": {},
   "source": [
    "  5. c.i. ¿A qué IP destino se comunica con más frecuencia?"
   ]
  },
  {
   "cell_type": "code",
   "execution_count": 143,
   "metadata": {},
   "outputs": [
    {
     "name": "stdout",
     "output_type": "stream",
     "text": [
      "La IP destino a la que más se comunica la IP origen 10.1.10.53 es: 84.54.22.33\n"
     ]
    }
   ],
   "source": [
    "frequentDestinationIp = df_pkgs[df_pkgs[\"ip_src\"] == frequentOriginIp][\"ip_dst\"].mode()[0]\n",
    "print(f\"La IP destino a la que más se comunica la IP origen {frequentOriginIp} es: {frequentDestinationIp}\")"
   ]
  },
  {
   "cell_type": "markdown",
   "metadata": {},
   "source": [
    "5. c.ii. ¿A qué puerto destino se comunica más? ¿Cuál es el propósito de este puerto?"
   ]
  },
  {
   "cell_type": "code",
   "execution_count": 144,
   "metadata": {},
   "outputs": [
    {
     "name": "stdout",
     "output_type": "stream",
     "text": [
      "El puerto destino más frecuente para la IP origen 10.1.10.53 es: 53\n"
     ]
    }
   ],
   "source": [
    "frequentDestinationPort = df_pkgs[df_pkgs[\"ip_src\"] == frequentDestinationIp][\"dst_port\"].mode()[0]\n",
    "print(f\"El puerto destino más frecuente para la IP origen {frequentOriginIp} es: {frequentDestinationPort}\")"
   ]
  },
  {
   "cell_type": "markdown",
   "metadata": {},
   "source": [
    "**R:** El propósito del puerto 53 es DNS."
   ]
  },
  {
   "cell_type": "markdown",
   "metadata": {},
   "source": [
    "5. c.iii. ¿Desde que puertos origen se comunica?"
   ]
  },
  {
   "cell_type": "code",
   "execution_count": 145,
   "metadata": {},
   "outputs": [
    {
     "name": "stdout",
     "output_type": "stream",
     "text": [
      "Los puertos origen son:\n",
      "src_port\n",
      "53       29\n",
      "15812     1\n",
      "23903     1\n",
      "Name: count, dtype: Int64\n"
     ]
    }
   ],
   "source": [
    "puertos_origen = df_pkgs[df_pkgs[\"ip_src\"] == frequentOriginIp][\"src_port\"].value_counts().head(100)\n",
    "print(\"Los puertos origen son:\")\n",
    "print(puertos_origen)\n"
   ]
  },
  {
   "cell_type": "markdown",
   "metadata": {},
   "source": [
    "6. Gráficas"
   ]
  },
  {
   "cell_type": "markdown",
   "metadata": {},
   "source": [
    "6. a. Genere una gráfica de barras 2D horizontales, en el eje Y las IPs origen, y en el eje X la\n",
    "suma de los payloads (bytes) enviados desde dichas direcciones."
   ]
  },
  {
   "cell_type": "code",
   "execution_count": 146,
   "metadata": {},
   "outputs": [
    {
     "data": {
      "image/png": "[encoded data removed]",
      "text/plain": [
       "<Figure size 1000x600 with 1 Axes>"
      ]
     },
     "metadata": {},
     "output_type": "display_data"
    }
   ],
   "source": [
    "df_src_payload = df_pkgs.groupby(\"ip_src\")[\"payload\"].sum().sort_values()\n",
    "df_src_payload.plot(kind=\"barh\", figsize=(10, 6), title=\"Payload enviado por IP origen\")\n",
    "plt.xlabel(\"Bytes enviados\")\n",
    "plt.ylabel(\"IP Origen\")\n",
    "plt.tight_layout()\n",
    "plt.show()"
   ]
  },
  {
   "cell_type": "markdown",
   "metadata": {},
   "source": [
    "6. b. Genere una gráfica de barras 2D horizontales, en el eje Y las IP destino, y en el eje X\n",
    "la suma de los payloads (bytes) recibidos en dichas direcciones."
   ]
  },
  {
   "cell_type": "code",
   "execution_count": 147,
   "metadata": {},
   "outputs": [
    {
     "data": {
      "image/png": "[encoded data removed]",
      "text/plain": [
       "<Figure size 1000x600 with 1 Axes>"
      ]
     },
     "metadata": {},
     "output_type": "display_data"
    }
   ],
   "source": [
    "df_dst_payload = df_pkgs.groupby(\"ip_dst\")[\"payload\"].sum().sort_values()\n",
    "df_dst_payload.plot(kind=\"barh\", figsize=(10, 6), title=\"Payload recibido por IP destino\")\n",
    "plt.xlabel(\"Bytes recibidos\")\n",
    "plt.ylabel(\"IP Destino\")\n",
    "plt.tight_layout()\n",
    "plt.show()"
   ]
  },
  {
   "cell_type": "markdown",
   "metadata": {},
   "source": [
    "6. c. Genere una gráfica de barras 2D horizontales, en el eje Y los puertos origen, y en el\n",
    "eje X la suma de los payloads (bytes) enviados de dichos puertos."
   ]
  },
  {
   "cell_type": "code",
   "execution_count": 148,
   "metadata": {},
   "outputs": [
    {
     "data": {
      "image/png": "[encoded data removed]",
      "text/plain": [
       "<Figure size 1000x600 with 1 Axes>"
      ]
     },
     "metadata": {},
     "output_type": "display_data"
    }
   ],
   "source": [
    "df_srcport_payload = df_pkgs.groupby(\"src_port\")[\"payload\"].sum().sort_values()\n",
    "df_srcport_payload.plot(kind=\"barh\", figsize=(10, 6), title=\"Payload enviado por puerto origen\")\n",
    "plt.xlabel(\"Bytes enviados\")\n",
    "plt.ylabel(\"Puerto Origen\")\n",
    "plt.tight_layout()\n",
    "plt.show()"
   ]
  },
  {
   "cell_type": "markdown",
   "metadata": {},
   "source": [
    "6. d. Genere una gráfica 2D de barras horizontales, en el eje Y los puertos destino, y en el\n",
    "eje X la suma de los payloads (bytes) recibidos en dichos puertos."
   ]
  },
  {
   "cell_type": "code",
   "execution_count": 149,
   "metadata": {},
   "outputs": [
    {
     "data": {
      "image/png": "[encoded data removed]",
      "text/plain": [
       "<Figure size 1000x600 with 1 Axes>"
      ]
     },
     "metadata": {},
     "output_type": "display_data"
    }
   ],
   "source": [
    "df_dstport_payload = df_pkgs.groupby(\"dst_port\")[\"payload\"].sum().sort_values()\n",
    "df_dstport_payload.plot(kind=\"barh\", figsize=(10, 6), title=\"Payload recibido por puerto destino\")\n",
    "plt.xlabel(\"Bytes recibidos\")\n",
    "plt.ylabel(\"Puerto Destino\")\n",
    "plt.tight_layout()\n",
    "plt.show()"
   ]
  },
  {
   "cell_type": "markdown",
   "metadata": {},
   "source": [
    "6. e. Genere una gráfica de barras 2D verticales, en el eje Y la suma de los payload, en el\n",
    "eje X el tiempo, para la IP origen más frecuente."
   ]
  },
  {
   "cell_type": "code",
   "execution_count": 152,
   "metadata": {},
   "outputs": [
    {
     "data": {
      "image/png": "[encoded data removed]",
      "text/plain": [
       "<Figure size 1200x500 with 1 Axes>"
      ]
     },
     "metadata": {},
     "output_type": "display_data"
    }
   ],
   "source": [
    "df_ip_frec = df_pkgs[df_pkgs[\"ip_src\"] == frequentOriginIp]\n",
    "df_time_payload = df_ip_frec.groupby(\"timestamp\")[\"payload\"].sum()\n",
    "\n",
    "df_time_payload.plot(kind=\"bar\", figsize=(12, 5), title=f\"Payload vs Tiempo - IP {frequentOriginIp}\")\n",
    "plt.xlabel(\"Tiempo (segundos)\")\n",
    "plt.ylabel(\"Payload (Bytes)\")\n",
    "plt.tight_layout()\n",
    "plt.show()"
   ]
  },
  {
   "cell_type": "markdown",
   "metadata": {},
   "source": [
    "6. f. Utilizando la información de las estadísticas y la información del comportamiento del\n",
    "tráfico que las gráficas muestran, describa que es lo que está sucediendo. ¿Es común\n",
    "el comportamiento?"
   ]
  },
  {
   "cell_type": "markdown",
   "metadata": {},
   "source": [
    "**R:** Este tráfico de red muestra un comportamiento inusual. La IP 10.1.10.53, demuestra estar mandando constantemente paquetes de entre 800 y 1000 bytes por espacio de tiempo (sumando un total de 26,000 bytes) hacia la IP 84.54.22.33, y todo esto ocurre exclusivamente por el puerto 53, que es el que normalmente se usa para DNS, lo cual no es habitual en el comportamiento de DNS. Entre las señales de alarma, podemos identificar\n",
    "- Solo hay comunicación en una dirección\n",
    "- Los envíos son extremadamente regulares y constantes\n",
    "- Están usando un puerto que casi siempre está permitido en los firewalls para pasar desapercibidos. \n",
    "En conclusión, lo que se observa podría ser un sistema comprometido que está enviando información o recibiendo órdenes de un servidor externo controlado por atacantes, aprovechándose del protocolo DNS para evitar que lo detecten los sistemas de seguridad."
   ]
  },
  {
   "cell_type": "markdown",
   "metadata": {},
   "source": [
    "7. Investigación del payload"
   ]
  },
  {
   "cell_type": "markdown",
   "metadata": {},
   "source": [
    "7. a. Cree un nuevo DF que incluya únicamente las conexiones con la dirección IP origen\n",
    "más frecuente."
   ]
  },
  {
   "cell_type": "code",
   "execution_count": 153,
   "metadata": {},
   "outputs": [],
   "source": [
    "df_ip_frecuente = df_pkgs[df_pkgs[\"ip_src\"] == frequentOriginIp]"
   ]
  },
  {
   "cell_type": "markdown",
   "metadata": {},
   "source": [
    "7. b. Cree un nuevo DF que utilice el DF anterior con las columnas src, dst y payload y\n",
    "agrúpelas por dst y la suma del payload"
   ]
  },
  {
   "cell_type": "code",
   "execution_count": 154,
   "metadata": {},
   "outputs": [],
   "source": [
    "df_payload = df_ip_frecuente[[\"ip_src\", \"ip_dst\", \"payload\"]]\n",
    "df_grouped = df_payload.groupby(\"ip_dst\").agg({\"payload\": \"sum\"}).sort_values(\"payload\", ascending=False)\n"
   ]
  },
  {
   "cell_type": "markdown",
   "metadata": {},
   "source": [
    "7. c. Obtenga la IP destino que más ha intercambiado bytes con la IP más frecuente. Esta\n",
    "IP es sospechosa por la cantidad de bytes intercambiados, entre todas las direcciones."
   ]
  },
  {
   "cell_type": "code",
   "execution_count": 155,
   "metadata": {},
   "outputs": [],
   "source": [
    "ip_destino_sospechosa = df_grouped.idxmax()[\"payload\"]"
   ]
  },
  {
   "cell_type": "markdown",
   "metadata": {},
   "source": [
    "7. d. Cree un nuevo DF con la conversación entre la IP más frecuente y la IP sospechosa."
   ]
  },
  {
   "cell_type": "code",
   "execution_count": 156,
   "metadata": {},
   "outputs": [],
   "source": [
    "df_conversacion = df_ip_frecuente[df_ip_frecuente[\"ip_dst\"] == ip_destino_sospechosa]"
   ]
  },
  {
   "cell_type": "markdown",
   "metadata": {},
   "source": [
    "7. e. Obtenga los payloads del DF del inciso anterior, y añada cada uno en un array."
   ]
  },
  {
   "cell_type": "code",
   "execution_count": 157,
   "metadata": {},
   "outputs": [],
   "source": [
    "payloads = df_conversacion[\"payload\"].to_numpy()"
   ]
  },
  {
   "cell_type": "markdown",
   "metadata": {},
   "source": [
    "7. f. Muestre el contenido del array."
   ]
  },
  {
   "cell_type": "code",
   "execution_count": 159,
   "metadata": {},
   "outputs": [
    {
     "data": {
      "text/plain": [
       "array([905, 919, 956, 942, 947, 989, 952, 923, 903, 936, 995, 950, 930,\n",
       "       948, 981, 948, 983, 981, 979, 954, 950, 950, 957, 963, 949, 961,\n",
       "       971, 913, 532], dtype=int64)"
      ]
     },
     "execution_count": 159,
     "metadata": {},
     "output_type": "execute_result"
    }
   ],
   "source": [
    "payloads"
   ]
  },
  {
   "cell_type": "markdown",
   "metadata": {},
   "source": [
    "7. g. Observe los primeros bytes del contenido, ¿encuentra algún tipo de dato que no haga\n",
    "sentido que se envíe al puerto destino? Describa lo que encontró."
   ]
  },
  {
   "cell_type": "code",
   "execution_count": 162,
   "metadata": {},
   "outputs": [
    {
     "data": {
      "text/plain": [
       "[b'\\x00\\x00\\x00\\x00\\x00\\x00\\x00\\x00\\x00\\x00',\n",
       " b'\\x00\\x00\\x00\\x00\\x00\\x00\\x00\\x00\\x00\\x00',\n",
       " b'\\x00\\x00\\x00\\x00\\x00\\x00\\x00\\x00\\x00\\x00',\n",
       " b'\\x00\\x00\\x00\\x00\\x00\\x00\\x00\\x00\\x00\\x00',\n",
       " b'\\x00\\x00\\x00\\x00\\x00\\x00\\x00\\x00\\x00\\x00',\n",
       " b'\\x00\\x00\\x00\\x00\\x00\\x00\\x00\\x00\\x00\\x00',\n",
       " b'\\x00\\x00\\x00\\x00\\x00\\x00\\x00\\x00\\x00\\x00',\n",
       " b'\\x00\\x00\\x00\\x00\\x00\\x00\\x00\\x00\\x00\\x00',\n",
       " b'\\x00\\x00\\x00\\x00\\x00\\x00\\x00\\x00\\x00\\x00',\n",
       " b'\\x00\\x00\\x00\\x00\\x00\\x00\\x00\\x00\\x00\\x00',\n",
       " b'\\x00\\x00\\x00\\x00\\x00\\x00\\x00\\x00\\x00\\x00',\n",
       " b'\\x00\\x00\\x00\\x00\\x00\\x00\\x00\\x00\\x00\\x00',\n",
       " b'\\x00\\x00\\x00\\x00\\x00\\x00\\x00\\x00\\x00\\x00',\n",
       " b'\\x00\\x00\\x00\\x00\\x00\\x00\\x00\\x00\\x00\\x00',\n",
       " b'\\x00\\x00\\x00\\x00\\x00\\x00\\x00\\x00\\x00\\x00',\n",
       " b'\\x00\\x00\\x00\\x00\\x00\\x00\\x00\\x00\\x00\\x00',\n",
       " b'\\x00\\x00\\x00\\x00\\x00\\x00\\x00\\x00\\x00\\x00',\n",
       " b'\\x00\\x00\\x00\\x00\\x00\\x00\\x00\\x00\\x00\\x00',\n",
       " b'\\x00\\x00\\x00\\x00\\x00\\x00\\x00\\x00\\x00\\x00',\n",
       " b'\\x00\\x00\\x00\\x00\\x00\\x00\\x00\\x00\\x00\\x00',\n",
       " b'\\x00\\x00\\x00\\x00\\x00\\x00\\x00\\x00\\x00\\x00',\n",
       " b'\\x00\\x00\\x00\\x00\\x00\\x00\\x00\\x00\\x00\\x00',\n",
       " b'\\x00\\x00\\x00\\x00\\x00\\x00\\x00\\x00\\x00\\x00',\n",
       " b'\\x00\\x00\\x00\\x00\\x00\\x00\\x00\\x00\\x00\\x00',\n",
       " b'\\x00\\x00\\x00\\x00\\x00\\x00\\x00\\x00\\x00\\x00',\n",
       " b'\\x00\\x00\\x00\\x00\\x00\\x00\\x00\\x00\\x00\\x00',\n",
       " b'\\x00\\x00\\x00\\x00\\x00\\x00\\x00\\x00\\x00\\x00',\n",
       " b'\\x00\\x00\\x00\\x00\\x00\\x00\\x00\\x00\\x00\\x00',\n",
       " b'\\x00\\x00\\x00\\x00\\x00\\x00\\x00\\x00\\x00\\x00']"
      ]
     },
     "execution_count": 162,
     "metadata": {},
     "output_type": "execute_result"
    }
   ],
   "source": [
    "primeros_bytes = [bytes(payload)[:10] for payload in payloads]\n",
    "primeros_bytes\n"
   ]
  },
  {
   "cell_type": "markdown",
   "metadata": {},
   "source": [
    "**R:** Al revisar los primeros bytes de los payloads, se observa que la mayoría de los paquetes contienen valores nulos, lo que puede sugerir que los datos enviados al puerto destino no contienen información significativa o están vacíos. Este comportamiento es inusual, ya que en una comunicación de red habitual, los valores nulos no deberían ser predominantes. Ya que todos los paquetes están siendo enviados a un puerto específico (53: DNS), este tipo de datos vacíos podría indicar una posible forma de ocultar datos a través de tráfico aparentemente inofensivo. Esta situación evidencia nuevamente lo anómalo del comportamiento de la red."
   ]
  }
 ],
 "metadata": {
  "kernelspec": {
   "display_name": "Python 3",
   "language": "python",
   "name": "python3"
  },
  "language_info": {
   "codemirror_mode": {
    "name": "ipython",
    "version": 3
   },
   "file_extension": ".py",
   "mimetype": "text/x-python",
   "name": "python",
   "nbconvert_exporter": "python",
   "pygments_lexer": "ipython3",
   "version": "3.12.5"
  }
 },
 "nbformat": 4,
 "nbformat_minor": 2
}
